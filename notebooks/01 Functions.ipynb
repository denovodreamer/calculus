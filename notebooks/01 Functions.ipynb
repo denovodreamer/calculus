{
 "cells": [
  {
   "cell_type": "markdown",
   "id": "3407dd65-0e1f-4ee3-8eb6-3f3c4def6770",
   "metadata": {},
   "source": [
    " "
   ]
  },
  {
   "cell_type": "markdown",
   "id": "78d1237c-63c7-4f9e-8c9d-7651a2b8f1d9",
   "metadata": {},
   "source": [
    " "
   ]
  },
  {
   "cell_type": "markdown",
   "id": "eb01f473-ae86-4eff-a4cb-92b900f57944",
   "metadata": {},
   "source": [
    " "
   ]
  },
  {
   "cell_type": "markdown",
   "id": "6d395cc0-73d9-41b4-96dc-21389baef3ce",
   "metadata": {},
   "source": [
    " "
   ]
  },
  {
   "cell_type": "markdown",
   "id": "ab03c7a2-79be-4ce6-887d-2c3927142496",
   "metadata": {},
   "source": [
    " "
   ]
  },
  {
   "cell_type": "code",
   "execution_count": 1,
   "id": "888d7d25-2309-48a6-be36-a4d9601e496f",
   "metadata": {},
   "outputs": [
    {
     "name": "stdout",
     "output_type": "stream",
     "text": [
      "The autoreload extension is already loaded. To reload it, use:\n",
      "  %reload_ext autoreload\n"
     ]
    }
   ],
   "source": [
    "import utils"
   ]
  },
  {
   "cell_type": "markdown",
   "id": "a74f01d2-fa8a-4079-8ae1-2a842a810c3e",
   "metadata": {},
   "source": [
    " "
   ]
  },
  {
   "cell_type": "markdown",
   "id": "43b600c9-c04e-4978-be6a-8dcc0ff3fa08",
   "metadata": {},
   "source": [
    " "
   ]
  },
  {
   "cell_type": "markdown",
   "id": "29333974-a679-47ba-9d24-ab00b1ac8df3",
   "metadata": {},
   "source": [
    " "
   ]
  },
  {
   "cell_type": "markdown",
   "id": "a7352c43-bd53-419a-8e25-bb83b2980da7",
   "metadata": {},
   "source": [
    " "
   ]
  },
  {
   "cell_type": "markdown",
   "id": "e799e03e-18a8-4be1-b03c-1971d99e607b",
   "metadata": {},
   "source": [
    " "
   ]
  },
  {
   "cell_type": "markdown",
   "id": "2d03ea47-c4e6-4be0-bc6e-0ab7b326140e",
   "metadata": {},
   "source": [
    " "
   ]
  },
  {
   "cell_type": "markdown",
   "id": "e205b082-4dbd-49db-ba0d-af5ecfbef661",
   "metadata": {},
   "source": [
    " "
   ]
  },
  {
   "cell_type": "markdown",
   "id": "9cb19689-c8b4-45ae-a31d-7c0851c2072c",
   "metadata": {},
   "source": [
    " "
   ]
  },
  {
   "cell_type": "markdown",
   "id": "81bb7c77-86f1-4b3c-8976-14c7254dd298",
   "metadata": {},
   "source": [
    " "
   ]
  },
  {
   "cell_type": "markdown",
   "id": "ad2d69be-49ed-4615-901d-a90fca902d70",
   "metadata": {},
   "source": [
    " "
   ]
  },
  {
   "cell_type": "markdown",
   "id": "a2dc8f4f-b67e-4809-9f6f-13bd44e8bae0",
   "metadata": {},
   "source": [
    " "
   ]
  },
  {
   "cell_type": "markdown",
   "id": "f8449b7f-1d48-489d-a6f2-3ea1753ce43b",
   "metadata": {},
   "source": [
    " "
   ]
  },
  {
   "cell_type": "markdown",
   "id": "de5e96fa-e712-41f5-9def-9c5c80d7fcf2",
   "metadata": {},
   "source": [
    " "
   ]
  },
  {
   "cell_type": "markdown",
   "id": "433b98b6-346d-4e79-bbe0-b49743206f38",
   "metadata": {},
   "source": [
    " "
   ]
  },
  {
   "cell_type": "markdown",
   "id": "eae61ae4-abea-4af6-8a63-d94d5e8bfa2c",
   "metadata": {},
   "source": [
    " "
   ]
  },
  {
   "cell_type": "markdown",
   "id": "0c9a7557-464a-4754-bac3-83f12d217ea5",
   "metadata": {},
   "source": [
    " "
   ]
  },
  {
   "cell_type": "markdown",
   "id": "61206d0b-d4cf-41e8-8808-5bfbf71d880a",
   "metadata": {},
   "source": [
    " "
   ]
  },
  {
   "cell_type": "markdown",
   "id": "6c343812-7823-4835-bb04-300170e77600",
   "metadata": {},
   "source": [
    " "
   ]
  },
  {
   "cell_type": "markdown",
   "id": "a391619e-201b-4e79-9e91-6f6379381660",
   "metadata": {},
   "source": [
    " "
   ]
  },
  {
   "cell_type": "markdown",
   "id": "52dd0c5c-48f5-4071-ae4d-c36141b261ba",
   "metadata": {},
   "source": [
    " "
   ]
  },
  {
   "cell_type": "markdown",
   "id": "8537d383-6e23-42df-b170-22f7f1103972",
   "metadata": {},
   "source": [
    " "
   ]
  },
  {
   "cell_type": "markdown",
   "id": "309e644c-3fb9-49a7-9d04-301f6ef4a435",
   "metadata": {},
   "source": [
    " "
   ]
  },
  {
   "cell_type": "markdown",
   "id": "52ee58e2-ad2c-4d0e-831c-870fe1a85745",
   "metadata": {},
   "source": [
    " "
   ]
  },
  {
   "cell_type": "markdown",
   "id": "3aba3784-e94e-4b6f-b848-4a14b5732755",
   "metadata": {},
   "source": [
    " "
   ]
  },
  {
   "cell_type": "markdown",
   "id": "40a594b8-2d86-44f7-994b-e05622675779",
   "metadata": {},
   "source": [
    " "
   ]
  },
  {
   "cell_type": "markdown",
   "id": "de19e45a-1f42-4869-8aa2-952d801c8d7d",
   "metadata": {},
   "source": [
    " "
   ]
  },
  {
   "cell_type": "markdown",
   "id": "d4c21ee7-5aeb-4f39-a6c6-473ddbf323dd",
   "metadata": {},
   "source": [
    " "
   ]
  },
  {
   "cell_type": "markdown",
   "id": "6cfb925f-7e94-4c03-a471-d6b8e7052d15",
   "metadata": {},
   "source": [
    " "
   ]
  },
  {
   "cell_type": "markdown",
   "id": "73121d7e-4bab-41e2-bcd9-09e9ff8a0bc3",
   "metadata": {},
   "source": [
    " "
   ]
  },
  {
   "cell_type": "markdown",
   "id": "118414c7-f944-4a9e-8af0-7a8d1aab7629",
   "metadata": {},
   "source": [
    " "
   ]
  },
  {
   "cell_type": "markdown",
   "id": "2b0cada2-a8c0-49c5-a499-e4f1a5204e39",
   "metadata": {},
   "source": [
    " "
   ]
  },
  {
   "cell_type": "markdown",
   "id": "9278b06b-6cfa-48b0-8502-1f38b98b0f11",
   "metadata": {},
   "source": [
    " "
   ]
  },
  {
   "cell_type": "markdown",
   "id": "75347107-0d89-437b-9943-4c39607b7918",
   "metadata": {},
   "source": [
    " "
   ]
  }
 ],
 "metadata": {
  "kernelspec": {
   "display_name": "venv_global",
   "language": "python",
   "name": "venv_global"
  },
  "language_info": {
   "codemirror_mode": {
    "name": "ipython",
    "version": 3
   },
   "file_extension": ".py",
   "mimetype": "text/x-python",
   "name": "python",
   "nbconvert_exporter": "python",
   "pygments_lexer": "ipython3",
   "version": "3.12.3"
  }
 },
 "nbformat": 4,
 "nbformat_minor": 5
}
